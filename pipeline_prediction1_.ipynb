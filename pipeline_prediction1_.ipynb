{
  "nbformat": 4,
  "nbformat_minor": 0,
  "metadata": {
    "colab": {
      "provenance": [],
      "authorship_tag": "ABX9TyM/gC93/h4VBEAZulArsBbD",
      "include_colab_link": true
    },
    "kernelspec": {
      "name": "python3",
      "display_name": "Python 3"
    },
    "language_info": {
      "name": "python"
    }
  },
  "cells": [
    {
      "cell_type": "markdown",
      "metadata": {
        "id": "view-in-github",
        "colab_type": "text"
      },
      "source": [
        "<a href=\"https://colab.research.google.com/github/anandhuarjuna/NLP/blob/main/pipeline_prediction1_.ipynb\" target=\"_parent\"><img src=\"https://colab.research.google.com/assets/colab-badge.svg\" alt=\"Open In Colab\"/></a>"
      ]
    },
    {
      "cell_type": "code",
      "execution_count": null,
      "metadata": {
        "id": "fmgQjEYy3mWE"
      },
      "outputs": [],
      "source": [
        "import numpy as np\n",
        "from sklearn.pipeline import Pipeline  #vectorisation and classification clubbing\n",
        "from sklearn.naive_bayes import MultinomialNB\n",
        "from sklearn.feature_extraction.text import TfidfVectorizer\n"
      ]
    },
    {
      "cell_type": "code",
      "source": [
        "X_train=np.array([\"coffee is my favorite drink\",\n",
        "                    \"i like to have tea in the morning\",\n",
        "                    \"i like to eat italian food for dinner\",\n",
        "                    \"i had pasta at this restaurant and it was amazing\",\n",
        "                    \"pizza at this restaurant is the best in nyc\",\n",
        "                    \"people like italian food these days\",\n",
        "                    \"i like to have bagels for breakfast\",\n",
        "                    \"olive oil is commonly used in italian cooking\",\n",
        "                    \"sometimes simple bread and butter works for breakfast\",\n",
        "                    \"i liked spaghetti pasta at this italian restaurant\"])\n"
      ],
      "metadata": {
        "id": "X4xioOoB4Rx0"
      },
      "execution_count": null,
      "outputs": []
    },
    {
      "cell_type": "code",
      "source": [
        "y_train=[\"breakfast\",\"breakfast\",\"italian\",\"italian\",\"italian\",\n",
        "                \"italian\",\"breakfast\",\"italian\",\"breakfast\",\"italian\"]"
      ],
      "metadata": {
        "id": "AtIaFJKd4viX"
      },
      "execution_count": null,
      "outputs": []
    },
    {
      "cell_type": "code",
      "source": [
        "X_test=np.array(['this is an amazing italian place. i can go there every day',\n",
        "                   'i like this place. i get great coffee and tea in the morning',\n",
        "                   'bagels are great here',\n",
        "                   'i like hiking',\n",
        "                   'everyone should understand maths'])"
      ],
      "metadata": {
        "id": "LrQdJQ-v49as"
      },
      "execution_count": null,
      "outputs": []
    },
    {
      "cell_type": "code",
      "source": [
        "clf=Pipeline([('tfidf',TfidfVectorizer()),('nb',MultinomialNB())])\n"
      ],
      "metadata": {
        "id": "KvWraAj15WjE"
      },
      "execution_count": null,
      "outputs": []
    },
    {
      "cell_type": "code",
      "source": [
        "clf.fit(X_train,y_train)\n",
        "y_pred=clf.predict(X_test)\n",
        "y_pred"
      ],
      "metadata": {
        "colab": {
          "base_uri": "https://localhost:8080/"
        },
        "id": "c5Sn9U7o6nXQ",
        "outputId": "d01e7279-7fde-4f50-dff1-b6bf05063eb9"
      },
      "execution_count": null,
      "outputs": [
        {
          "output_type": "execute_result",
          "data": {
            "text/plain": [
              "array(['italian', 'breakfast', 'breakfast', 'italian', 'italian'],\n",
              "      dtype='<U9')"
            ]
          },
          "metadata": {},
          "execution_count": 15
        }
      ]
    }
  ]
}