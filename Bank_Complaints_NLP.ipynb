{
  "nbformat": 4,
  "nbformat_minor": 0,
  "metadata": {
    "colab": {
      "provenance": [],
      "authorship_tag": "ABX9TyNsj3tF4cr1yO23h+DkcojL",
      "include_colab_link": true
    },
    "kernelspec": {
      "name": "python3",
      "display_name": "Python 3"
    },
    "language_info": {
      "name": "python"
    }
  },
  "cells": [
    {
      "cell_type": "markdown",
      "metadata": {
        "id": "view-in-github",
        "colab_type": "text"
      },
      "source": [
        "<a href=\"https://colab.research.google.com/github/anandhuarjuna/NLP/blob/main/Bank_Complaints_NLP.ipynb\" target=\"_parent\"><img src=\"https://colab.research.google.com/assets/colab-badge.svg\" alt=\"Open In Colab\"/></a>"
      ]
    },
    {
      "cell_type": "markdown",
      "source": [
        "**Load Data Set**"
      ],
      "metadata": {
        "id": "x2XsUCFBrsm8"
      }
    },
    {
      "cell_type": "code",
      "execution_count": null,
      "metadata": {
        "id": "7aI8R_eJa-WZ"
      },
      "outputs": [],
      "source": [
        "from numpy import NaN\n",
        "import pandas as pd\n",
        "df=pd.read_csv('/content/complaints_processed.csv',nrows=3000)\n"
      ]
    },
    {
      "cell_type": "markdown",
      "source": [
        "**Drop irrelvant columns**"
      ],
      "metadata": {
        "id": "9a3KgSClr_71"
      }
    },
    {
      "cell_type": "code",
      "source": [
        "df = df.drop(df.columns[0], axis=1)"
      ],
      "metadata": {
        "id": "Gqo7wGk-r0Rc"
      },
      "execution_count": null,
      "outputs": []
    },
    {
      "cell_type": "markdown",
      "source": [
        "**Check null values**"
      ],
      "metadata": {
        "id": "GjFsWd_gsGFK"
      }
    },
    {
      "cell_type": "code",
      "source": [
        "df.isna().sum()"
      ],
      "metadata": {
        "colab": {
          "base_uri": "https://localhost:8080/"
        },
        "id": "7eQ_N9AlsPc_",
        "outputId": "77a6c3dc-b08d-4e9f-d817-425ccfe9325b"
      },
      "execution_count": null,
      "outputs": [
        {
          "output_type": "execute_result",
          "data": {
            "text/plain": [
              "product      0\n",
              "narrative    1\n",
              "dtype: int64"
            ]
          },
          "metadata": {},
          "execution_count": 5
        }
      ]
    },
    {
      "cell_type": "markdown",
      "source": [
        "**Drop rows with null values**"
      ],
      "metadata": {
        "id": "3N2uUeRasiKV"
      }
    },
    {
      "cell_type": "code",
      "source": [
        "df=df[df['narrative'].notna()]\n",
        "df.isna().sum()"
      ],
      "metadata": {
        "colab": {
          "base_uri": "https://localhost:8080/"
        },
        "id": "9SYvV9XAsiyZ",
        "outputId": "8abde867-1d1a-43b0-f1e3-6f6613d016a5"
      },
      "execution_count": null,
      "outputs": [
        {
          "output_type": "execute_result",
          "data": {
            "text/plain": [
              "product      0\n",
              "narrative    0\n",
              "dtype: int64"
            ]
          },
          "metadata": {},
          "execution_count": 6
        }
      ]
    },
    {
      "cell_type": "markdown",
      "source": [
        "**Countplot of feature labels**"
      ],
      "metadata": {
        "id": "tOwqrw1Ms3XL"
      }
    },
    {
      "cell_type": "code",
      "source": [
        "import warnings\n",
        "warnings.filterwarnings('ignore')\n",
        "df['product'].value_counts()\n",
        "import matplotlib.pyplot as plt\n",
        "plt.figure(figsize=(9,9))\n",
        "import seaborn as sns\n",
        "sns.countplot(df['product'])"
      ],
      "metadata": {
        "colab": {
          "base_uri": "https://localhost:8080/",
          "height": 569
        },
        "id": "4auCNDgQszTK",
        "outputId": "e14e4b98-4ff9-4730-9b6a-b79cdc71104a"
      },
      "execution_count": null,
      "outputs": [
        {
          "output_type": "execute_result",
          "data": {
            "text/plain": [
              "<matplotlib.axes._subplots.AxesSubplot at 0x7fd635ce0130>"
            ]
          },
          "metadata": {},
          "execution_count": 7
        },
        {
          "output_type": "display_data",
          "data": {
            "text/plain": [
              "<Figure size 648x648 with 1 Axes>"
            ],
            "image/png": "[encoded data removed]"
          },
          "metadata": {
            "needs_background": "light"
          }
        }
      ]
    },
    {
      "cell_type": "markdown",
      "source": [
        "**Remap labels**\n",
        "**from objects to integers**"
      ],
      "metadata": {
        "id": "lB_EH5hFszG2"
      }
    },
    {
      "cell_type": "code",
      "source": [
        "df['product']=df['product'].map({'credit_card':0,'retail_banking':1,'credit_reporting':2,'mortgages_and_loans':3,'debt_collection':4})\n",
        "df['product'].value_counts()"
      ],
      "metadata": {
        "colab": {
          "base_uri": "https://localhost:8080/"
        },
        "id": "J103Yzw-tRQp",
        "outputId": "4ef287ce-4ce0-49c6-c2b0-faf6138d1a28"
      },
      "execution_count": null,
      "outputs": [
        {
          "output_type": "execute_result",
          "data": {
            "text/plain": [
              "2    1627\n",
              "4     570\n",
              "3     289\n",
              "0     278\n",
              "1     235\n",
              "Name: product, dtype: int64"
            ]
          },
          "metadata": {},
          "execution_count": 8
        }
      ]
    },
    {
      "cell_type": "markdown",
      "source": [
        "**Remove special characters**"
      ],
      "metadata": {
        "id": "jZp2kYljt1cU"
      }
    },
    {
      "cell_type": "code",
      "source": [
        "message=df.narrative\n",
        "message=message.str.replace('[^a-zA-Z0-9]+',' ')\n",
        "message"
      ],
      "metadata": {
        "colab": {
          "base_uri": "https://localhost:8080/"
        },
        "id": "DwEI4ZlZj0jS",
        "outputId": "73ef1d15-3393-4177-f852-f770dbff9e7c"
      },
      "execution_count": null,
      "outputs": [
        {
          "output_type": "execute_result",
          "data": {
            "text/plain": [
              "dtype('O')"
            ]
          },
          "metadata": {},
          "execution_count": 16
        }
      ]
    },
    {
      "cell_type": "markdown",
      "source": [
        "**Tokenize** **-->** **stem** **-->** **lowercase** **-->** **join the words**"
      ],
      "metadata": {
        "id": "YXhRh-2juQxq"
      }
    },
    {
      "cell_type": "code",
      "source": [
        "import nltk\n",
        "from nltk.stem import SnowballStemmer\n",
        "from nltk.tokenize import TweetTokenizer\n",
        "tk=TweetTokenizer()\n",
        "stem=SnowballStemmer('english')\n",
        "message=message.apply(lambda x:[stem.stem(i.lower()) for i in tk.tokenize(x)]).apply(lambda x:' '.join(x))\n",
        "message\n"
      ],
      "metadata": {
        "colab": {
          "base_uri": "https://localhost:8080/"
        },
        "id": "a_4aoAWZkyJN",
        "outputId": "d8695638-4b1c-4bc5-8781-330b92ae849e"
      },
      "execution_count": null,
      "outputs": [
        {
          "output_type": "execute_result",
          "data": {
            "text/plain": [
              "0       purcha order day ship amount receiv product we...\n",
              "1       forward messag date tue subject plea investig ...\n",
              "2       forward messag cc sent friday pdt subject fina...\n",
              "3       payment histori miss credit report special loa...\n",
              "4       payment histori miss credit report made mistak...\n",
              "                              ...                        \n",
              "2995    account name account numberxxxx account type c...\n",
              "2996    account name account number reason fail verifi...\n",
              "2997    account name origin creditor status collect ac...\n",
              "2998    account name account numberxxxx account type c...\n",
              "2999    account name account namest farm bank account ...\n",
              "Name: narrative, Length: 2999, dtype: object"
            ]
          },
          "metadata": {},
          "execution_count": 20
        }
      ]
    },
    {
      "cell_type": "markdown",
      "source": [
        "**fit & Transform**"
      ],
      "metadata": {
        "id": "tIv82YilvHXP"
      }
    },
    {
      "cell_type": "code",
      "source": [
        "from sklearn.feature_extraction.text import TfidfVectorizer\n",
        "vect=TfidfVectorizer()\n",
        "train_vec=vect.fit_transform(message)\n",
        "print(train_vec)"
      ],
      "metadata": {
        "colab": {
          "base_uri": "https://localhost:8080/"
        },
        "id": "Ok67oTstnjP4",
        "outputId": "71b9d644-965c-48c5-e0cd-fa3e3eb84181"
      },
      "execution_count": null,
      "outputs": [
        {
          "output_type": "stream",
          "name": "stdout",
          "text": [
            "  (0, 261)\t0.03145306185252639\n",
            "  (0, 2720)\t0.02704952269989653\n",
            "  (0, 3779)\t0.05950618268420057\n",
            "  (0, 3139)\t0.05950618268420057\n",
            "  (0, 103)\t0.044067533658794796\n",
            "  (0, 2045)\t0.06522326976512727\n",
            "  (0, 104)\t0.06856755132082676\n",
            "  (0, 520)\t0.0284200630194463\n",
            "  (0, 3415)\t0.07087509878555535\n",
            "  (0, 689)\t0.11123702921684842\n",
            "  (0, 694)\t0.022655527984966756\n",
            "  (0, 781)\t0.02432820403233156\n",
            "  (0, 1838)\t0.09192213335853189\n",
            "  (0, 4315)\t0.13284533943901608\n",
            "  (0, 2944)\t0.06547957390018924\n",
            "  (0, 4627)\t0.03529308136612153\n",
            "  (0, 4827)\t0.03597764105264088\n",
            "  (0, 4504)\t0.02442535489851529\n",
            "  (0, 1465)\t0.02546552388078634\n",
            "  (0, 714)\t0.1271208856401543\n",
            "  (0, 4691)\t0.03306756570457268\n",
            "  (0, 4415)\t0.023363169246372485\n",
            "  (0, 1966)\t0.025443381550226535\n",
            "  (0, 3983)\t0.12201994657526437\n",
            "  (0, 4687)\t0.0687842456634632\n",
            "  :\t:\n",
            "  (2998, 57)\t0.18653289449571084\n",
            "  (2998, 3868)\t0.027289917219063212\n",
            "  (2998, 1138)\t0.03470545775130207\n",
            "  (2998, 3214)\t0.07744957431161295\n",
            "  (2998, 438)\t0.10300857633595792\n",
            "  (2998, 2624)\t0.08063133035760622\n",
            "  (2998, 4315)\t0.065604459970339\n",
            "  (2998, 714)\t0.09416623596195439\n",
            "  (2998, 276)\t0.04600222649807095\n",
            "  (2998, 5088)\t0.03471532133467979\n",
            "  (2998, 97)\t0.0310976993770764\n",
            "  (2998, 3244)\t0.035320506839975264\n",
            "  (2998, 3333)\t0.043444764989330746\n",
            "  (2998, 1425)\t0.03251311995905314\n",
            "  (2998, 2657)\t0.07417566747465075\n",
            "  (2998, 4173)\t0.02734597061267396\n",
            "  (2998, 3677)\t0.03255607121023382\n",
            "  (2998, 1202)\t0.029607626332483566\n",
            "  (2998, 3659)\t0.0827504418898557\n",
            "  (2998, 4881)\t0.04164379479744037\n",
            "  (2998, 2525)\t0.06658880867470798\n",
            "  (2998, 4205)\t0.09124066468609442\n",
            "  (2998, 928)\t0.0988605057804725\n",
            "  (2998, 3997)\t0.02886979953061118\n",
            "  (2998, 3889)\t0.046666499729399784\n"
          ]
        }
      ]
    },
    {
      "cell_type": "markdown",
      "source": [
        "**Feature & Target**"
      ],
      "metadata": {
        "id": "VMWbJCOHvXrn"
      }
    },
    {
      "cell_type": "code",
      "source": [
        "X=train_vec\n",
        "y=df['product'].values"
      ],
      "metadata": {
        "id": "3fiHzKHXn94v"
      },
      "execution_count": null,
      "outputs": []
    },
    {
      "cell_type": "markdown",
      "source": [
        "**Train Test Split**"
      ],
      "metadata": {
        "id": "O5EIjT_hvh9L"
      }
    },
    {
      "cell_type": "code",
      "source": [
        "from sklearn.model_selection import train_test_split\n",
        "X_train,X_test,y_train,y_test=train_test_split(X,y,test_size=.3,random_state=1)"
      ],
      "metadata": {
        "id": "JyQwNaDkoL8H"
      },
      "execution_count": null,
      "outputs": []
    },
    {
      "cell_type": "markdown",
      "source": [
        "**Classifiers** : SVC, MultinomialNB, RandomForestClassifier & AdaBoostClassifier"
      ],
      "metadata": {
        "id": "4BtjTJrrvoEZ"
      }
    },
    {
      "cell_type": "code",
      "source": [
        "from sklearn.svm import SVC\n",
        "from sklearn.naive_bayes import MultinomialNB\n",
        "from sklearn.ensemble import RandomForestClassifier,AdaBoostClassifier\n",
        "svc=SVC()\n",
        "mb=MultinomialNB()\n",
        "rf=RandomForestClassifier()\n",
        "ab=AdaBoostClassifier()\n"
      ],
      "metadata": {
        "id": "uiG74Cc1oZsT"
      },
      "execution_count": null,
      "outputs": []
    },
    {
      "cell_type": "markdown",
      "source": [
        "**Classification report**, **ConfusionMatrix** **&** **Predcition**"
      ],
      "metadata": {
        "id": "_51HdISvwfD1"
      }
    },
    {
      "cell_type": "code",
      "source": [
        "lst=[svc,mb,rf,ab]\n",
        "from sklearn.metrics import classification_report,ConfusionMatrixDisplay\n",
        "for i in lst:\n",
        "  i.fit(X_train,y_train)\n",
        "  y_pred=i.predict(X_test)\n",
        "  y_sent=i.predict(vect.transform(['yes disputing sending publish government website also including copy driver license utility mail keep reporting updated also included copy ftc sent identity dealing issue sometime experian told identity driver license social security card found brother passed away last year document irs showing identity theft affidvat showing investigated proved identity theft letter explain see reported police tell wrong person neighborhood also wrote said fill applicant get car also attached letter mail came back return sender sent certified letter return receipt experian inquiring fair credit reporting act section required federal law verify physical verification original signed consumer contract fcra unverified account must removed credit bureau able verified proof unable provide copy verifiable proof item must removed listed attached letter sent requiring experian said verified respond yet item deleted deleted deleted experian put back without proof deleted month ago none bureau creditor collection given proof ask letter attached law item deleted proof given also veteran total check go child veteran adminstration trying get flat rent item credit report causing lot damage please help veteran']))\n",
        "  print('Predicting sentence')\n",
        "  if y_sent==[0]:\n",
        "    print('credit_card')\n",
        "  elif y_sent==[1]:\n",
        "    print('retail_banking')\n",
        "  elif y_sent==[2]:\n",
        "    print('credit_reporting')\n",
        "  elif y_sent==[3]:\n",
        "    print('mortgages_and_loans')\n",
        "  elif y_sent==[4]:\n",
        "    print('debt_collection')\n",
        "  else:\n",
        "    print('doesnot belongs to any banking department')\n",
        "  print('*****************************')\n",
        "  print(classification_report(y_test,y_pred))\n",
        "  print('*****************************')\n",
        "  print(ConfusionMatrixDisplay.from_predictions(y_test,y_pred))\n"
      ],
      "metadata": {
        "colab": {
          "base_uri": "https://localhost:8080/",
          "height": 1000
        },
        "id": "uqV8uen2wfr7",
        "outputId": "0de061e1-df9e-4fd8-953e-fe5c4c172f17"
      },
      "execution_count": null,
      "outputs": [
        {
          "output_type": "stream",
          "name": "stdout",
          "text": [
            "Predicting sentence\n",
            "credit_reporting\n",
            "*****************************\n",
            "              precision    recall  f1-score   support\n",
            "\n",
            "           0       0.77      0.58      0.66        88\n",
            "           1       0.79      0.74      0.76        70\n",
            "           2       0.85      0.96      0.91       485\n",
            "           3       0.88      0.79      0.84        77\n",
            "           4       0.88      0.74      0.80       180\n",
            "\n",
            "    accuracy                           0.85       900\n",
            "   macro avg       0.83      0.76      0.79       900\n",
            "weighted avg       0.85      0.85      0.84       900\n",
            "\n",
            "*****************************\n",
            "<sklearn.metrics._plot.confusion_matrix.ConfusionMatrixDisplay object at 0x7fd64763c6d0>\n",
            "Predicting sentence\n",
            "credit_reporting\n",
            "*****************************\n",
            "              precision    recall  f1-score   support\n",
            "\n",
            "           0       1.00      0.02      0.04        88\n",
            "           1       1.00      0.01      0.03        70\n",
            "           2       0.56      1.00      0.72       485\n",
            "           3       1.00      0.05      0.10        77\n",
            "           4       0.81      0.14      0.24       180\n",
            "\n",
            "    accuracy                           0.57       900\n",
            "   macro avg       0.87      0.25      0.23       900\n",
            "weighted avg       0.73      0.57      0.45       900\n",
            "\n",
            "*****************************\n",
            "<sklearn.metrics._plot.confusion_matrix.ConfusionMatrixDisplay object at 0x7fd635baa970>\n",
            "Predicting sentence\n",
            "credit_reporting\n",
            "*****************************\n",
            "              precision    recall  f1-score   support\n",
            "\n",
            "           0       0.83      0.43      0.57        88\n",
            "           1       0.81      0.73      0.77        70\n",
            "           2       0.80      0.98      0.88       485\n",
            "           3       0.86      0.71      0.78        77\n",
            "           4       0.88      0.67      0.76       180\n",
            "\n",
            "    accuracy                           0.82       900\n",
            "   macro avg       0.84      0.70      0.75       900\n",
            "weighted avg       0.83      0.82      0.81       900\n",
            "\n",
            "*****************************\n",
            "<sklearn.metrics._plot.confusion_matrix.ConfusionMatrixDisplay object at 0x7fd64763c6d0>\n",
            "Predicting sentence\n",
            "credit_reporting\n",
            "*****************************\n",
            "              precision    recall  f1-score   support\n",
            "\n",
            "           0       0.58      0.52      0.55        88\n",
            "           1       0.79      0.53      0.63        70\n",
            "           2       0.79      0.89      0.84       485\n",
            "           3       0.69      0.74      0.71        77\n",
            "           4       0.70      0.54      0.61       180\n",
            "\n",
            "    accuracy                           0.75       900\n",
            "   macro avg       0.71      0.65      0.67       900\n",
            "weighted avg       0.74      0.75      0.74       900\n",
            "\n",
            "*****************************\n",
            "<sklearn.metrics._plot.confusion_matrix.ConfusionMatrixDisplay object at 0x7fd64763c6d0>\n"
          ]
        },
        {
          "output_type": "display_data",
          "data": {
            "text/plain": [
              "<Figure size 432x288 with 2 Axes>"
            ],
            "image/png": "[encoded data removed]"
          },
          "metadata": {
            "needs_background": "light"
          }
        },
        {
          "output_type": "display_data",
          "data": {
            "text/plain": [
              "<Figure size 432x288 with 2 Axes>"
            ],
            "image/png": "[encoded data removed]"
          },
          "metadata": {
            "needs_background": "light"
          }
        },
        {
          "output_type": "display_data",
          "data": {
            "text/plain": [
              "<Figure size 432x288 with 2 Axes>"
            ],
            "image/png": "[encoded data removed]"
          },
          "metadata": {
            "needs_background": "light"
          }
        },
        {
          "output_type": "display_data",
          "data": {
            "text/plain": [
              "<Figure size 432x288 with 2 Axes>"
            ],
            "image/png": "[encoded data removed]"
          },
          "metadata": {
            "needs_background": "light"
          }
        }
      ]
    }
  ]
}