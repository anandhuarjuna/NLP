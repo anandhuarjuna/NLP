{
  "nbformat": 4,
  "nbformat_minor": 0,
  "metadata": {
    "colab": {
      "provenance": [],
      "authorship_tag": "ABX9TyOXWSlsHkuPK9aYXvhcs5Vn",
      "include_colab_link": true
    },
    "kernelspec": {
      "name": "python3",
      "display_name": "Python 3"
    },
    "language_info": {
      "name": "python"
    }
  },
  "cells": [
    {
      "cell_type": "markdown",
      "metadata": {
        "id": "view-in-github",
        "colab_type": "text"
      },
      "source": [
        "<a href=\"https://colab.research.google.com/github/anandhuarjuna/NLP/blob/main/Span_and_non_spam_.ipynb\" target=\"_parent\"><img src=\"https://colab.research.google.com/assets/colab-badge.svg\" alt=\"Open In Colab\"/></a>"
      ]
    },
    {
      "cell_type": "code",
      "execution_count": null,
      "metadata": {
        "colab": {
          "base_uri": "https://localhost:8080/",
          "height": 542
        },
        "id": "NKRdBnaIaLLE",
        "outputId": "c8dcd021-6cbe-4e0e-9504-dc05a148ded2"
      },
      "outputs": [
        {
          "output_type": "stream",
          "name": "stderr",
          "text": [
            "/usr/local/lib/python3.8/dist-packages/seaborn/_decorators.py:36: FutureWarning: Pass the following variable as a keyword arg: x. From version 0.12, the only valid positional argument will be `data`, and passing other arguments without an explicit keyword will result in an error or misinterpretation.\n",
            "  warnings.warn(\n"
          ]
        },
        {
          "output_type": "execute_result",
          "data": {
            "text/plain": [
              "0       0\n",
              "1       0\n",
              "2       0\n",
              "3       0\n",
              "4       1\n",
              "       ..\n",
              "1077    0\n",
              "1078    0\n",
              "1079    0\n",
              "1080    0\n",
              "1081    0\n",
              "Name: Label, Length: 1082, dtype: int64"
            ]
          },
          "metadata": {},
          "execution_count": 6
        },
        {
          "output_type": "display_data",
          "data": {
            "text/plain": [
              "<Figure size 432x288 with 1 Axes>"
            ],
            "image/png": "[encoded data removed]"
          },
          "metadata": {
            "needs_background": "light"
          }
        }
      ],
      "source": [
        "import pandas as pd\n",
        "import pandas as pd\n",
        "df_train=pd.read_csv('/content/SMS_train.csv',encoding='ISO-8859-1')\n",
        "df_test=pd.read_csv('/content/SMS_test.csv',encoding='ISO-8859-1')\n",
        "df=pd.concat([df_train,df_test],ignore_index=True,axis=0)\n",
        "df.isna().sum()\n",
        "df['Label'].value_counts()\n",
        "import seaborn as sns\n",
        "sns.countplot(df['Label'])\n",
        "df['Label']=df['Label'].map({'Non-Spam':0,'Spam':1})\n",
        "df['Label']\n"
      ]
    },
    {
      "cell_type": "code",
      "source": [
        "message=df.Message_body\n",
        "message=message.str.replace('[^a-zA_Z0-9]+',' ')\n",
        "message"
      ],
      "metadata": {
        "colab": {
          "base_uri": "https://localhost:8080/"
        },
        "id": "rO-U6jM_hC5r",
        "outputId": "0c1a4a4a-2360-41e5-ea65-e99e7e2691d0"
      },
      "execution_count": null,
      "outputs": [
        {
          "output_type": "stream",
          "name": "stderr",
          "text": [
            "<ipython-input-7-f26f88f86b06>:2: FutureWarning: The default value of regex will change from True to False in a future version.\n",
            "  message=message.str.replace('[^a-zA_Z0-9]+',' ')\n"
          ]
        },
        {
          "output_type": "execute_result",
          "data": {
            "text/plain": [
              "0                                 ofl ts true to its name\n",
              "1        he guy did some bitching but acted like i d b...\n",
              "2        ity was in mood for that o any other suggesti...\n",
              "3                       ill b going to esplanade fr home \n",
              "4        his is the 2nd time we have tried 2 contact u...\n",
              "                              ...                        \n",
              "1077    7 wonders in y 7th ou 6th r style 5th r smile ...\n",
              "1078     ry to do something dear ou read something for...\n",
              "1079     un ah hk mayb can if dun have anythin on hk h...\n",
              "1080     when are in love 1 like listening songs 2 get...\n",
              "1081        reat ave a safe trip ont panic surrender all \n",
              "Name: Message_body, Length: 1082, dtype: object"
            ]
          },
          "metadata": {},
          "execution_count": 7
        }
      ]
    },
    {
      "cell_type": "code",
      "source": [
        "import nltk\n",
        "from nltk.stem import SnowballStemmer\n",
        "from nltk.tokenize import word_tokenize\n",
        "stem=SnowballStemmer('english')\n",
        "nltk.download('punkt')\n",
        "\n"
      ],
      "metadata": {
        "colab": {
          "base_uri": "https://localhost:8080/"
        },
        "id": "wy4lmqx9hDra",
        "outputId": "edb24adf-3fc5-4fc3-f656-d27cb4f798a9"
      },
      "execution_count": null,
      "outputs": [
        {
          "output_type": "stream",
          "name": "stderr",
          "text": [
            "[nltk_data] Downloading package punkt to /root/nltk_data...\n",
            "[nltk_data]   Unzipping tokenizers/punkt.zip.\n"
          ]
        },
        {
          "output_type": "execute_result",
          "data": {
            "text/plain": [
              "True"
            ]
          },
          "metadata": {},
          "execution_count": 8
        }
      ]
    },
    {
      "cell_type": "code",
      "source": [
        "message=message.apply(lambda x: [stem.stem(i.lower()) for i in word_tokenize(x)]).apply(lambda x:' '.join(x))\n",
        "\n",
        "message"
      ],
      "metadata": {
        "colab": {
          "base_uri": "https://localhost:8080/"
        },
        "id": "FX9xBZMfhQyg",
        "outputId": "fc8ab527-8a04-4a1d-dc68-fe82362e9d7b"
      },
      "execution_count": null,
      "outputs": [
        {
          "output_type": "execute_result",
          "data": {
            "text/plain": [
              "0                                  ofl ts true to it name\n",
              "1       he guy did some bitch but act like i d be inte...\n",
              "2            iti was in mood for that o ani other suggest\n",
              "3                            ill b go to esplanad fr home\n",
              "4       his is the 2nd time we have tri 2 contact u ha...\n",
              "                              ...                        \n",
              "1077    7 wonder in y 7th ou 6th r style 5th r smile 4...\n",
              "1078         ry to do someth dear ou read someth for exam\n",
              "1079    un ah hk mayb can if dun have anythin on hk ha...\n",
              "1080    when are in love 1 like listen song 2 get stop...\n",
              "1081           reat ave a safe trip ont panic surrend all\n",
              "Name: Message_body, Length: 1082, dtype: object"
            ]
          },
          "metadata": {},
          "execution_count": 9
        }
      ]
    },
    {
      "cell_type": "code",
      "source": [
        "from sklearn.feature_extraction.text import TfidfVectorizer\n",
        "vect=TfidfVectorizer()\n",
        "train_vec=vect.fit_transform(message)\n",
        "print(train_vec)\n"
      ],
      "metadata": {
        "colab": {
          "base_uri": "https://localhost:8080/"
        },
        "id": "AYGZrudClkTU",
        "outputId": "3579114f-922b-484a-918c-a1a8b13dbaa2"
      },
      "execution_count": null,
      "outputs": [
        {
          "output_type": "stream",
          "name": "stdout",
          "text": [
            "  (0, 1921)\t0.4460555865654023\n",
            "  (0, 1601)\t0.2401158115470034\n",
            "  (0, 2823)\t0.1712344774958923\n",
            "  (0, 2869)\t0.46356413331742524\n",
            "  (0, 2873)\t0.4142415154895614\n",
            "  (0, 2029)\t0.5723371607734409\n",
            "  (1, 1280)\t0.1911785092441155\n",
            "  (1, 1265)\t0.13108046428479966\n",
            "  (1, 2944)\t0.21250016111525316\n",
            "  (1, 1313)\t0.25989697835359254\n",
            "  (1, 485)\t0.1252953687752707\n",
            "  (1, 3029)\t0.18300145069097826\n",
            "  (1, 1957)\t0.21002979003683986\n",
            "  (1, 1091)\t0.2407449682024429\n",
            "  (1, 2611)\t0.22096118348734223\n",
            "  (1, 743)\t0.22096118348734223\n",
            "  (1, 1533)\t0.12049586989024216\n",
            "  (1, 1571)\t0.25989697835359254\n",
            "  (1, 646)\t0.15064898889489678\n",
            "  (1, 1721)\t0.17415636663398773\n",
            "  (1, 381)\t0.28071242939071317\n",
            "  (1, 742)\t0.16689299306643296\n",
            "  (1, 681)\t0.2972345823768223\n",
            "  (1, 2606)\t0.18826665342339988\n",
            "  (1, 971)\t0.21794138417803277\n",
            "  :\t:\n",
            "  (1080, 1731)\t0.26618324335151816\n",
            "  (1080, 3046)\t0.23327756518881462\n",
            "  (1080, 492)\t0.26618324335151816\n",
            "  (1080, 2615)\t0.27549597255254404\n",
            "  (1080, 1764)\t0.20071823135401473\n",
            "  (1080, 2669)\t0.20071823135401473\n",
            "  (1080, 3044)\t0.3800740868490162\n",
            "  (1080, 530)\t0.14745307823166076\n",
            "  (1080, 2499)\t0.1900370434245081\n",
            "  (1080, 3152)\t0.26236681238115633\n",
            "  (1080, 2023)\t0.143740921436158\n",
            "  (1080, 1323)\t0.3182740010389572\n",
            "  (1080, 3084)\t0.21272442745941275\n",
            "  (1080, 2772)\t0.11415222797608707\n",
            "  (1080, 1533)\t0.12341036691165455\n",
            "  (1080, 1721)\t0.17836877833139367\n",
            "  (1080, 1921)\t0.23725526425020907\n",
            "  (1081, 2712)\t0.42117795500083705\n",
            "  (1081, 2179)\t0.42117795500083705\n",
            "  (1081, 2084)\t0.3577436919197913\n",
            "  (1081, 2363)\t0.36827100325456136\n",
            "  (1081, 454)\t0.20267750378382393\n",
            "  (1081, 2466)\t0.39776625589350245\n",
            "  (1081, 2866)\t0.3282484392808501\n",
            "  (1081, 607)\t0.2730768696506732\n"
          ]
        }
      ]
    },
    {
      "cell_type": "code",
      "source": [
        "X=train_vec\n",
        "y=df['Label'].values\n",
        "y"
      ],
      "metadata": {
        "colab": {
          "base_uri": "https://localhost:8080/"
        },
        "id": "NPa__TFJmJbf",
        "outputId": "09be5a6d-f6d9-47ef-c69f-b9bb7a1b75a3"
      },
      "execution_count": null,
      "outputs": [
        {
          "output_type": "execute_result",
          "data": {
            "text/plain": [
              "array([0, 0, 0, ..., 0, 0, 0])"
            ]
          },
          "metadata": {},
          "execution_count": 11
        }
      ]
    },
    {
      "cell_type": "code",
      "source": [
        "from sklearn.model_selection import train_test_split\n",
        "X_train,X_test,y_train,y_test=train_test_split(X,y,test_size=.3,random_state=3)"
      ],
      "metadata": {
        "id": "XSnrpeSBmbMq"
      },
      "execution_count": null,
      "outputs": []
    },
    {
      "cell_type": "code",
      "source": [
        "from sklearn.svm import SVC\n",
        "from sklearn.naive_bayes import MultinomialNB\n",
        "from sklearn.ensemble import RandomForestClassifier,AdaBoostClassifier\n",
        "svc=SVC()\n",
        "nb=MultinomialNB()\n",
        "rf=RandomForestClassifier()\n",
        "ab=AdaBoostClassifier()\n",
        "lst=[svc,nb,rf,ab]\n",
        "from sklearn.metrics import classification_report,ConfusionMatrixDisplay\n",
        "for i in lst:\n",
        "  print(i)\n",
        "  i.fit(X_train,y_train)\n",
        "  y_pred=i.predict(X_test)\n",
        "  y_sent=i.predict(vect.transform(['Hi how are you']))\n",
        "  print('Predicting new sentence')\n",
        "  if y_sent==[0]:\n",
        "    print('not spam')\n",
        "  else:\n",
        "    print('Spam')\n",
        "  print('*****************************')\n",
        "  print(classification_report(y_test,y_pred))\n",
        "  print('*****************************')\n",
        "  print(ConfusionMatrixDisplay.from_predictions(y_test,y_pred))"
      ],
      "metadata": {
        "id": "GNshmiQNmeNb",
        "outputId": "631636e9-267a-46de-be67-8619a73c1e47",
        "colab": {
          "base_uri": "https://localhost:8080/",
          "height": 1000
        }
      },
      "execution_count": null,
      "outputs": [
        {
          "output_type": "stream",
          "name": "stdout",
          "text": [
            "SVC()\n",
            "Predicting new sentence\n",
            "not spam\n",
            "*****************************\n",
            "              precision    recall  f1-score   support\n",
            "\n",
            "           0       0.89      1.00      0.94       259\n",
            "           1       1.00      0.50      0.67        66\n",
            "\n",
            "    accuracy                           0.90       325\n",
            "   macro avg       0.94      0.75      0.80       325\n",
            "weighted avg       0.91      0.90      0.88       325\n",
            "\n",
            "*****************************\n",
            "<sklearn.metrics._plot.confusion_matrix.ConfusionMatrixDisplay object at 0x7f8edf524d00>\n",
            "MultinomialNB()\n",
            "Predicting new sentence\n",
            "not spam\n",
            "*****************************\n",
            "              precision    recall  f1-score   support\n",
            "\n",
            "           0       0.86      1.00      0.93       259\n",
            "           1       1.00      0.38      0.55        66\n",
            "\n",
            "    accuracy                           0.87       325\n",
            "   macro avg       0.93      0.69      0.74       325\n",
            "weighted avg       0.89      0.87      0.85       325\n",
            "\n",
            "*****************************\n",
            "<sklearn.metrics._plot.confusion_matrix.ConfusionMatrixDisplay object at 0x7f8edf0d1820>\n",
            "RandomForestClassifier()\n",
            "Predicting new sentence\n",
            "not spam\n",
            "*****************************\n",
            "              precision    recall  f1-score   support\n",
            "\n",
            "           0       0.92      1.00      0.96       259\n",
            "           1       1.00      0.67      0.80        66\n",
            "\n",
            "    accuracy                           0.93       325\n",
            "   macro avg       0.96      0.83      0.88       325\n",
            "weighted avg       0.94      0.93      0.93       325\n",
            "\n",
            "*****************************\n",
            "<sklearn.metrics._plot.confusion_matrix.ConfusionMatrixDisplay object at 0x7f8edf068f70>\n",
            "AdaBoostClassifier()\n",
            "Predicting new sentence\n",
            "not spam\n",
            "*****************************\n",
            "              precision    recall  f1-score   support\n",
            "\n",
            "           0       0.95      1.00      0.97       259\n",
            "           1       0.98      0.79      0.87        66\n",
            "\n",
            "    accuracy                           0.95       325\n",
            "   macro avg       0.96      0.89      0.92       325\n",
            "weighted avg       0.96      0.95      0.95       325\n",
            "\n",
            "*****************************\n",
            "<sklearn.metrics._plot.confusion_matrix.ConfusionMatrixDisplay object at 0x7f8edf0d1820>\n"
          ]
        },
        {
          "output_type": "display_data",
          "data": {
            "text/plain": [
              "<Figure size 432x288 with 2 Axes>"
            ],
            "image/png": "[encoded data removed]"
          },
          "metadata": {
            "needs_background": "light"
          }
        },
        {
          "output_type": "display_data",
          "data": {
            "text/plain": [
              "<Figure size 432x288 with 2 Axes>"
            ],
            "image/png": "[encoded data removed]"
          },
          "metadata": {
            "needs_background": "light"
          }
        },
        {
          "output_type": "display_data",
          "data": {
            "text/plain": [
              "<Figure size 432x288 with 2 Axes>"
            ],
            "image/png": "[encoded data removed]"
          },
          "metadata": {
            "needs_background": "light"
          }
        },
        {
          "output_type": "display_data",
          "data": {
            "text/plain": [
              "<Figure size 432x288 with 2 Axes>"
            ],
            "image/png": "[encoded data removed]"
          },
          "metadata": {
            "needs_background": "light"
          }
        }
      ]
    },
    {
      "cell_type": "code",
      "source": [
        "train_vec.shape"
      ],
      "metadata": {
        "colab": {
          "base_uri": "https://localhost:8080/"
        },
        "id": "5vraiu9nlZTk",
        "outputId": "1ea2fec1-e6a5-4bde-8658-d2b430b3ad19"
      },
      "execution_count": null,
      "outputs": [
        {
          "output_type": "execute_result",
          "data": {
            "text/plain": [
              "(1082, 3164)"
            ]
          },
          "metadata": {},
          "execution_count": 18
        }
      ]
    }
  ]
}